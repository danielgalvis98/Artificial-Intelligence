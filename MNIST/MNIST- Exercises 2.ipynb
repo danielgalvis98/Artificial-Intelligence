{
 "cells": [
  {
   "cell_type": "markdown",
   "metadata": {},
   "source": [
    "# MNIST (dígitos) solución tradicional\n",
    "\n",
    "__Integrantes:__\n",
    "\n",
    "+ Nombre: Daniel Galvis T.\n",
    "+ Nombre: Luis Fernando Muñoz\n",
    "\n",
    "__Números asignados:__ 2 y 8\n"
   ]
  },
  {
   "cell_type": "markdown",
   "metadata": {},
   "source": [
    "## Taller \n",
    "\n",
    "_Suponga que trabajan para el desarrollo de un sistema de lectura y reconocimiento de dígitos. Para este trabajo le han proporcionado un conjunto de fotos en grises con el fin que proponga una solución de programación tradicional, es decir, sin el uso de la inteligencia artificial. El software que proponga debe tener la capacidad de determinar con una precisión una muestra de los datos que le han suministrado_\n",
    "\n",
    "Durante la clase se le proporcionaran dos números para trabajar:\n",
    "+ 1 y 5\n",
    "+ 8 y 2\n",
    "+ 9 y 7\n",
    "+ 0 y 3\n",
    "+ 4 y 6\n",
    "\n",
    "**Evaluación del método**\n",
    "\n",
    "Seleccione aleatoriamente una muestra de 30% de los datos, en donde se incluya un balance entre los dígitos asignados (despliéguelo y evidencie las cantidades).\n",
    "\n",
    "Utilice la muestra obtenida y evalué el software (proceso o métodos) que ha propuesto, es decir, a cuantos números acertó (VP) contra los que no acertó (FP), calcule los siguientes datos:\n",
    "\n",
    "```\n",
    "Para el primer número\n",
    "\n",
    "Reales =  número de datos\n",
    "\n",
    "Estimados = cantidad de dígitos estimados correctamente \n",
    "\n",
    "Para el segundo número\n",
    "\n",
    "Reales =  número de datos\n",
    "\n",
    "Estimados = cantidad de dígitos estimados correctamente\n",
    "```\n",
    "_Para todos los números que le corresponden_\n",
    "\n",
    "$ Precision = \\frac{VP}{VP+FP}$\n",
    "\n",
    "\n",
    "Finalmente, despliegue el tiempo que tomo todo el proceso de evaluación."
   ]
  },
  {
   "cell_type": "markdown",
   "metadata": {
    "heading_collapsed": true
   },
   "source": [
    "#### Entregas\n",
    "\n",
    "+ Prepare una presentación donde muestre los resultados\n",
    "+ Envié por un correo electrónico este archivo ipynb con la solución y resultados conseguidos\n"
   ]
  },
  {
   "cell_type": "markdown",
   "metadata": {},
   "source": [
    "#### Paquetes"
   ]
  },
  {
   "cell_type": "code",
   "execution_count": 2,
   "metadata": {},
   "outputs": [],
   "source": [
    "from sklearn.datasets import load_digits\n",
    "import pylab as pl\n",
    "import sklearn"
   ]
  },
  {
   "cell_type": "code",
   "execution_count": 3,
   "metadata": {},
   "outputs": [
    {
     "data": {
      "text/plain": [
       "sklearn.utils.Bunch"
      ]
     },
     "execution_count": 3,
     "metadata": {},
     "output_type": "execute_result"
    }
   ],
   "source": [
    "# cargamos los datos y desplegamos el objeto\n",
    "digits = load_digits()\n",
    "type(digits)"
   ]
  },
  {
   "cell_type": "code",
   "execution_count": 4,
   "metadata": {},
   "outputs": [],
   "source": [
    "# observe las propieades del objeto, ¿a que tipo se le parece?\n",
    "?sklearn.utils.Bunch"
   ]
  },
  {
   "cell_type": "code",
   "execution_count": 7,
   "metadata": {},
   "outputs": [
    {
     "name": "stdout",
     "output_type": "stream",
     "text": [
      "Se tienen en total: 1797 imágenes\n",
      "[[ 0.  0.  9. 14.  8.  1.  0.  0.]\n",
      " [ 0.  0. 12. 14. 14. 12.  0.  0.]\n",
      " [ 0.  0.  9. 10.  0. 15.  4.  0.]\n",
      " [ 0.  0.  3. 16. 12. 14.  2.  0.]\n",
      " [ 0.  0.  4. 16. 16.  2.  0.  0.]\n",
      " [ 0.  3. 16.  8. 10. 13.  2.  0.]\n",
      " [ 0.  1. 15.  1.  3. 16.  8.  0.]\n",
      " [ 0.  0. 11. 16. 15. 11.  1.  0.]]\n"
     ]
    },
    {
     "data": {
      "text/plain": [
       "<Figure size 432x288 with 0 Axes>"
      ]
     },
     "metadata": {},
     "output_type": "display_data"
    },
    {
     "data": {
      "image/png": "[encoded data removed]",
      "text/plain": [
       "<Figure size 288x288 with 1 Axes>"
      ]
     },
     "metadata": {
      "needs_background": "light"
     },
     "output_type": "display_data"
    }
   ],
   "source": [
    "pl.gray() # Queremos las imágenes en grises\n",
    "pl.matshow(digits.images[8]) # Imprimir una imagen dada\n",
    "numImagenes = len(digits.images) # Numero de imagenes, len es un método que provee el tamaño del arreglo\n",
    "print(\"Se tienen en total:\", numImagenes, \"imágenes\")\n",
    "print(digits.images[8]) # Ver su representación en pixeles"
   ]
  },
  {
   "cell_type": "markdown",
   "metadata": {},
   "source": [
    "Observe cada atributo del objeto digits, recorra cada imagen y obtenga su representación (_target_)"
   ]
  },
  {
   "cell_type": "markdown",
   "metadata": {
    "heading_collapsed": true
   },
   "source": [
    "#### Solución"
   ]
  },
  {
   "cell_type": "markdown",
   "metadata": {},
   "source": [
    "## Definicion Algoritmos"
   ]
  },
  {
   "cell_type": "code",
   "execution_count": 30,
   "metadata": {},
   "outputs": [],
   "source": [
    "def is_two(matrix):\n",
    "    max_light = -1\n",
    "    rightmost_max = -1\n",
    "    for i in range(len(matrix[0])):\n",
    "        if matrix[0][i] >= max_light:\n",
    "            max_light = matrix[0][i]\n",
    "            rightmost_max = i\n",
    "    if rightmost_max == len(matrix[0]) - 1:\n",
    "        return False\n",
    "    if matrix[1][rightmost_max + 1] >= max_light:\n",
    "        max_light = matrix[1][rightmost_max + 1]\n",
    "        rightmost_max = rightmost_max + 1\n",
    "    else:\n",
    "        max_light = -1\n",
    "        new_rightmost_max = -1\n",
    "        for i in range(len(matrix[1])):\n",
    "            if matrix[1][i] >= max_light:\n",
    "                max_light = matrix[1][i]\n",
    "                new_rightmost_max = i\n",
    "        \n",
    "        if new_rightmost_max != rightmost_max + 1:\n",
    "            return False\n",
    "        rightmost_max = new_rightmost_max\n",
    "    going_to_left = True\n",
    "    going_to_right = True\n",
    "    i = 2\n",
    "    while going_to_right and i < len(matrix) - 1 and rightmost_max != len(matrix[0]):\n",
    "        if matrix[i][rightmost_max - 1] >= max_light:\n",
    "            going_to_right = False\n",
    "            rightmost_max = rightmost_max - 1\n",
    "            max_light = matrix[i][rightmost_max - 1]\n",
    "        elif matrix[i][rightmost_max - 1] >= max_light:\n",
    "            rightmost_max = rightmost_max + 1\n",
    "            max_light = matrix[i][rightmost_max + 1]\n",
    "        else:\n",
    "            max_light = -1\n",
    "            new_rightmost_max = -1\n",
    "            for j in range(len(matrix[i])):\n",
    "                if matrix[i][j] >= max_light:\n",
    "                    max_light = matrix[i][j]\n",
    "                    new_rightmost_max = j\n",
    "            if new_rightmost_max == rightmost_max - 1:\n",
    "                going_to_right = False\n",
    "                rightmost_max = new_rightmost_max\n",
    "            elif new_rightmost_max == rightmost_max + 1:\n",
    "                rightmost_max = new_rightmost_max\n",
    "            else:\n",
    "                return False\n",
    "        i = i+1\n",
    "        \n",
    "    going_to_right = False\n",
    "    if (i == len(matrix) - 1):\n",
    "        return False\n",
    "    \n",
    "    going_to_left = True\n",
    "    \n",
    "    while going_to_left and i < len(matrix) and rightmost_max != 0:\n",
    "        max_light = -1\n",
    "        new_rightmost_max = -1\n",
    "        for j in range(len(matrix[i])):\n",
    "            if matrix[i][j] >= max_light:\n",
    "                max_light = matrix[i][j]\n",
    "                new_rightmost_max = j\n",
    "        if new_rightmost_max == rightmost_max or new_rightmost_max == rightmost_max - 1:\n",
    "            rightmost_max = new_rightmost_max\n",
    "        elif new_rightmost_max == rightmost_max + 1:\n",
    "            going_to_left = False\n",
    "            rightmost_max = new_rightmost_max\n",
    "        else:\n",
    "            return False\n",
    "        i = i+1\n",
    "    \n",
    "    going_to_left = False\n",
    "    if i == len(matrix) - 1 or rightmost_max == len(matrix[0]) - 1:\n",
    "        return False\n",
    "    going_to_right = True\n",
    "    stop = False\n",
    "    while not stop:\n",
    "        pos_right = rightmost_max + 1\n",
    "        if rightmost_max == len(matrix[0]) or i == len(matrix[0]):\n",
    "            return True\n",
    "        if rightmost_max != 0 and matrix[i][rightmost_max - 1] >= matrix[i+1][pos_right] and matrix[i][rightmost_max - 1] >= matrix[i+1][rightmost_max] and matrix[i][rightmost_max - 1] >= matrix[i][rightmost_max]:\n",
    "            return False\n",
    "        \n",
    "        if matrix[i][pos_right] >= matrix[i+1][pos_right] and matrix[i][pos_right] >= matrix[i+1][rightmost_max]:\n",
    "            rightmost_max = pos_right\n",
    "        elif matrix[i+1][pos_right] >= matrix[i+1][rightmost_max]:\n",
    "            i = i+1\n",
    "            rightmost_max = pos_right\n",
    "        else:\n",
    "            i = i+1\n",
    "        if rightmost_max == len(matrix[0]) - 1 or i == len(matrix) - 1:\n",
    "            stop = True\n",
    "    \n",
    "    return True"
   ]
  },
  {
   "cell_type": "code",
   "execution_count": 94,
   "metadata": {},
   "outputs": [],
   "source": [
    "def is_eight(matrix):\n",
    "    leftLimit = len(matrix[0])-1\n",
    "    rightLimit = 0\n",
    "    maxLight = 10\n",
    "    close_first_ball_left = False\n",
    "    close_first_ball_right = False\n",
    "    open_second_ball_left = False\n",
    "    open_second_ball_right = False\n",
    "    stillEight = True\n",
    "    for row in range(len(matrix)):\n",
    "        first = len(matrix[0])-1\n",
    "        last = 0\n",
    "        a = 0\n",
    "        while a < len(matrix[row]):\n",
    "            if matrix[row][a] <= 5:\n",
    "                a = a+1\n",
    "            else:\n",
    "                break\n",
    "        first = a\n",
    "        #print(str(first) + \" primero\")\n",
    "        while a < len(matrix[row]):\n",
    "            if matrix[row][a] >= maxLight-5:\n",
    "                last = a\n",
    "            a = a+1\n",
    "        #print (str(last) + \" ultimo\")\n",
    "        for column in range(len(matrix[row])-1):\n",
    "            if matrix[row][column] >= maxLight-5:\n",
    "                if row <= 2:\n",
    "                    if leftLimit > column:\n",
    "                        leftLimit = column\n",
    "                    if rightLimit < column:\n",
    "                        rightLimit = column\n",
    "                else:\n",
    "                    if leftLimit < column & column == first:\n",
    "                        close_first_ball_left = True\n",
    "                    if rightLimit > column & column == last:\n",
    "                        close_first_ball_right = True\n",
    "                    if (close_first_ball_left | close_first_ball_right) & leftLimit >= column & column == first:\n",
    "                        open_second_ball_left = True\n",
    "                    if (close_first_ball_left | close_first_ball_right) & rightLimit < column & column == last:\n",
    "                        open_second_ball_right = True\n",
    "                maxLight = matrix[row][column]\n",
    "        #print (str(leftLimit) + \" limIzquierdo\")\n",
    "       # print (str(rightLimit) + \" limDerecho\")\n",
    "    #print(str(close_first_ball_left) + \" \" + str(close_first_ball_right) + \" \" + str(open_second_ball_left) + \" \" + str(open_second_ball_right))\n",
    "    if close_first_ball_left == True & close_first_ball_right == True:\n",
    "        return True\n",
    "    elif open_second_ball_left == True & open_second_ball_right == True:\n",
    "        return True\n",
    "    else: return False"
   ]
  },
  {
   "cell_type": "markdown",
   "metadata": {},
   "source": [
    "## Parte 1"
   ]
  },
  {
   "cell_type": "code",
   "execution_count": 95,
   "metadata": {},
   "outputs": [],
   "source": [
    "index_of_numbers = []\n",
    "index_of_twos = []\n",
    "index_of_eights = []\n",
    "for i in range(len(digits.images)):\n",
    "    if digits.target[i] == 2 or digits.target[i] == 8:\n",
    "        index_of_numbers.append(i)"
   ]
  },
  {
   "cell_type": "code",
   "execution_count": 10,
   "metadata": {},
   "outputs": [],
   "source": [
    "from random import sample"
   ]
  },
  {
   "cell_type": "code",
   "execution_count": 11,
   "metadata": {},
   "outputs": [],
   "source": [
    "index_of_numbers_sample = sample(index_of_numbers, int(0.3*len(index_of_numbers)))"
   ]
  },
  {
   "cell_type": "code",
   "execution_count": 96,
   "metadata": {},
   "outputs": [
    {
     "name": "stdout",
     "output_type": "stream",
     "text": [
      "EXACTITUD TOTAL: 34 SOBRE 105\n"
     ]
    }
   ],
   "source": [
    "twos_correct = 0\n",
    "eights_correct = 0\n",
    "for index in index_of_numbers_sample:\n",
    "    if is_eight(digits.images[index]) and digits.target[index] == 8:\n",
    "        eights_correct = eights_correct + 1\n",
    "    elif is_two(digits.images[index]) and digits.target[index] == 2:\n",
    "        twos_correct = twos_correct + 1\n",
    "exactitud = twos_correct + eights_correct\n",
    "total_sample = len(index_of_numbers_sample)\n",
    "print (f\"EXACTITUD TOTAL: {exactitud} SOBRE {total_sample}\")"
   ]
  },
  {
   "cell_type": "code",
   "execution_count": 97,
   "metadata": {},
   "outputs": [
    {
     "name": "stdout",
     "output_type": "stream",
     "text": [
      "Se tuvo una precision de 1564 sobre 1797\n",
      "Es decir: 0.8703394546466333\n",
      "El tiempo total de ejecución fue de: 0.3381383419036865 segundos\n"
     ]
    }
   ],
   "source": [
    "import time\n",
    "start = time.time()\n",
    "twos_correct = 0\n",
    "eights_correct = 0\n",
    "any_correct = 0\n",
    "for index in range(numImagenes):\n",
    "    if is_eight(digits.images[index]) and digits.target[index] == 8:\n",
    "        eights_correct = eights_correct + 1\n",
    "    elif is_two(digits.images[index]) and digits.target[index] == 2:\n",
    "        twos_correct = twos_correct + 1\n",
    "    elif digits.target[index] != 2 and digits.target[index] != 8:\n",
    "        any_correct = any_correct + 1\n",
    "\n",
    "exactitud = twos_correct + eights_correct + any_correct\n",
    "precision = exactitud / numImagenes\n",
    "end = time.time()\n",
    "total_time = end - start\n",
    "\n",
    "print (f\"Se tuvo una precision de {exactitud} sobre {numImagenes}\")\n",
    "print (f\"Es decir: {precision}\")\n",
    "print (f\"El tiempo total de ejecución fue de: {total_time} segundos\")"
   ]
  },
  {
   "cell_type": "code",
   "execution_count": null,
   "metadata": {},
   "outputs": [],
   "source": []
  }
 ],
 "metadata": {
  "kernelspec": {
   "display_name": "Python 3",
   "language": "python",
   "name": "python3"
  },
  "language_info": {
   "codemirror_mode": {
    "name": "ipython",
    "version": 3
   },
   "file_extension": ".py",
   "mimetype": "text/x-python",
   "name": "python",
   "nbconvert_exporter": "python",
   "pygments_lexer": "ipython3",
   "version": "3.7.3"
  }
 },
 "nbformat": 4,
 "nbformat_minor": 2
}
