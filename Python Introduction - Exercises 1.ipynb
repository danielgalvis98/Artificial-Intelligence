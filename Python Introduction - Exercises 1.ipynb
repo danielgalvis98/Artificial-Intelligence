{
 "cells": [
  {
   "cell_type": "markdown",
   "metadata": {},
   "source": [
    "# Python Exercises, practice  \n",
    "\n",
    "\n",
    "+ __Student 1: Daniel Galvis Torres__\n",
    "+ __Student 2: Luis Fernando Muñoz__"
   ]
  },
  {
   "cell_type": "markdown",
   "metadata": {},
   "source": [
    "__1 exercise__\n",
    "\n",
    "print hello world"
   ]
  },
  {
   "cell_type": "code",
   "execution_count": 2,
   "metadata": {},
   "outputs": [
    {
     "name": "stdout",
     "output_type": "stream",
     "text": [
      "hello world\n"
     ]
    }
   ],
   "source": [
    "print ('hello world')"
   ]
  },
  {
   "cell_type": "markdown",
   "metadata": {},
   "source": [
    "__2 exercise__\n",
    "\n",
    "Let's create a variable with the name _variable_ and assign it the value \"hello world\"."
   ]
  },
  {
   "cell_type": "code",
   "execution_count": 2,
   "metadata": {},
   "outputs": [],
   "source": [
    "variable = \"hello world\""
   ]
  },
  {
   "cell_type": "markdown",
   "metadata": {},
   "source": [
    "__3 exercise__\n",
    "\n",
    "Print the type of _variable_"
   ]
  },
  {
   "cell_type": "code",
   "execution_count": 9,
   "metadata": {},
   "outputs": [
    {
     "name": "stdout",
     "output_type": "stream",
     "text": [
      "<class 'str'>\n"
     ]
    }
   ],
   "source": [
    "print (type(variable))"
   ]
  },
  {
   "cell_type": "markdown",
   "metadata": {},
   "source": [
    "__4 exercise__\n",
    "\n",
    "Let's remove the word \" world\" from _variable_"
   ]
  },
  {
   "cell_type": "code",
   "execution_count": 4,
   "metadata": {},
   "outputs": [
    {
     "name": "stdout",
     "output_type": "stream",
     "text": [
      "hello \n"
     ]
    }
   ],
   "source": [
    "variable = variable[0:6]\n",
    "print(variable)"
   ]
  },
  {
   "cell_type": "markdown",
   "metadata": {},
   "source": [
    "__2 exercise__\n",
    "\n",
    "Let's make a function which receives a list of number from 1 to 20 and prints only the number that are odd."
   ]
  },
  {
   "cell_type": "code",
   "execution_count": 15,
   "metadata": {},
   "outputs": [
    {
     "name": "stdout",
     "output_type": "stream",
     "text": [
      "[1, 3, 5, 7, 9, 11, 13, 15, 17, 19]\n"
     ]
    }
   ],
   "source": [
    "def odds (numbers):\n",
    "    for i in numbers:\n",
    "        if(i % 2 == 0):\n",
    "            numbers.remove(i)\n",
    "    print(numbers)\n",
    "odds(list(range(0,20)))"
   ]
  },
  {
   "cell_type": "markdown",
   "metadata": {},
   "source": [
    "__3 exercise__\n",
    "\n",
    "Let's make a method in a Python file which receives two parameters:\n",
    "\n",
    "+ A list of integers \n",
    "+ An exponent number \n",
    "\n",
    "$b^{n} = b \\times \\dots \\times b$  \n",
    "\n",
    "The method allows us to calculate the exponentiation of each number in the list.\n",
    "\n",
    "We must import the file and use it to call the method"
   ]
  },
  {
   "cell_type": "code",
   "execution_count": 2,
   "metadata": {},
   "outputs": [],
   "source": [
    "import exponentiation"
   ]
  },
  {
   "cell_type": "code",
   "execution_count": 3,
   "metadata": {},
   "outputs": [
    {
     "data": {
      "text/plain": [
       "[1, 27, 125, 1000, 2197]"
      ]
     },
     "execution_count": 3,
     "metadata": {},
     "output_type": "execute_result"
    }
   ],
   "source": [
    "exponentiation.exponentiate_list ([1, 3, 5, 10, 13], 3)"
   ]
  },
  {
   "cell_type": "markdown",
   "metadata": {},
   "source": [
    "__4 exercise__\n",
    "\n",
    "The idea is to do a dictionary _diccionario_ with the next keys and values:\n",
    "\n",
    "_variableUno_: [1,2,3,4]\n",
    "\n",
    "_variableDos_: [\"1\",\"a\",\"?\"]\n"
   ]
  },
  {
   "cell_type": "code",
   "execution_count": 21,
   "metadata": {},
   "outputs": [
    {
     "name": "stdout",
     "output_type": "stream",
     "text": [
      "dict_items([('_variableUno_', [1, 2, 3, 4]), ('_variableDos_', ['1', 'a', '?'])])\n"
     ]
    }
   ],
   "source": [
    "diccionario = {\"_variableUno_\":[1,2,3,4], \"_variableDos_\": [\"1\",\"a\",\"?\"]}\n",
    "print(diccionario.items())"
   ]
  },
  {
   "cell_type": "markdown",
   "metadata": {},
   "source": [
    "__5 exercise__\n",
    "\n",
    "Change the first letter of \"Spam\" to \"z\" "
   ]
  },
  {
   "cell_type": "code",
   "execution_count": 10,
   "metadata": {},
   "outputs": [],
   "source": [
    "spam = \"Spam\""
   ]
  },
  {
   "cell_type": "code",
   "execution_count": 11,
   "metadata": {},
   "outputs": [
    {
     "name": "stdout",
     "output_type": "stream",
     "text": [
      "zpam\n"
     ]
    }
   ],
   "source": [
    "print (spam.replace(\"S\", \"z\"))"
   ]
  },
  {
   "cell_type": "markdown",
   "metadata": {},
   "source": [
    "__6 exercise__\n",
    "\n",
    "let's do a program which receives some parameters in order to calculate the perimeter of a rectangle.\n",
    "\n",
    "$p = 2x + 2y$"
   ]
  },
  {
   "cell_type": "code",
   "execution_count": 22,
   "metadata": {},
   "outputs": [
    {
     "data": {
      "text/plain": [
       "10"
      ]
     },
     "execution_count": 22,
     "metadata": {},
     "output_type": "execute_result"
    }
   ],
   "source": [
    "def perimeter(ancho, alto):\n",
    "    return 2*ancho + 2*alto\n",
    "perimeter(3,2)"
   ]
  },
  {
   "cell_type": "markdown",
   "metadata": {},
   "source": [
    "__7 exercise__\n",
    "\n",
    "+ Create a class that saves the name of a person, his height in meters and weights in kilograms.\n",
    "+ This class must have a operation which calculate the Body mass index (BMI).\n",
    "+ Define a list of 5 persons and print their BMI. "
   ]
  },
  {
   "cell_type": "code",
   "execution_count": 17,
   "metadata": {},
   "outputs": [],
   "source": [
    "class Person():\n",
    "    def __init__(self, name, height, weight):\n",
    "        self.name = name\n",
    "        self.height = height\n",
    "        self.weight = weight\n",
    "    \n",
    "    def bmi (self):\n",
    "        return self.weight / (self.height**2)"
   ]
  },
  {
   "cell_type": "code",
   "execution_count": 18,
   "metadata": {},
   "outputs": [],
   "source": [
    "persons =  [Person(\"Daniel\", 1.70, 64), Person(\"Luisfer\", 1.80, 70), Person(\"Javier\", 1.84, 88), Person(\"Nicolas\", 1.60, 50), \n",
    "        Person(\"Melissa\", 1.97, 79) ]"
   ]
  },
  {
   "cell_type": "code",
   "execution_count": 19,
   "metadata": {},
   "outputs": [
    {
     "name": "stdout",
     "output_type": "stream",
     "text": [
      "22.145328719723185\n",
      "21.604938271604937\n",
      "25.99243856332703\n",
      "19.531249999999996\n",
      "20.3561029658069\n"
     ]
    }
   ],
   "source": [
    "for person in persons:\n",
    "    print (person.bmi())"
   ]
  },
  {
   "cell_type": "markdown",
   "metadata": {},
   "source": [
    "__8 exercise__\n",
    "\n",
    "make a program that prints the numbers from 1 to 100\n",
    "If the number is divisible by 2 then print \"whiz\"\n",
    "if the number is divisible by 3 then print \"bang\""
   ]
  },
  {
   "cell_type": "code",
   "execution_count": 26,
   "metadata": {},
   "outputs": [
    {
     "name": "stdout",
     "output_type": "stream",
     "text": [
      "1\n",
      "whiz\n",
      "bang\n",
      "whiz\n",
      "5\n",
      "whiz and bang\n",
      "7\n",
      "whiz\n",
      "bang\n",
      "whiz\n",
      "11\n",
      "whiz and bang\n",
      "13\n",
      "whiz\n",
      "bang\n",
      "whiz\n",
      "17\n",
      "whiz and bang\n",
      "19\n",
      "whiz\n",
      "bang\n",
      "whiz\n",
      "23\n",
      "whiz and bang\n",
      "25\n",
      "whiz\n",
      "bang\n",
      "whiz\n",
      "29\n",
      "whiz and bang\n",
      "31\n",
      "whiz\n",
      "bang\n",
      "whiz\n",
      "35\n",
      "whiz and bang\n",
      "37\n",
      "whiz\n",
      "bang\n",
      "whiz\n",
      "41\n",
      "whiz and bang\n",
      "43\n",
      "whiz\n",
      "bang\n",
      "whiz\n",
      "47\n",
      "whiz and bang\n",
      "49\n",
      "whiz\n",
      "bang\n",
      "whiz\n",
      "53\n",
      "whiz and bang\n",
      "55\n",
      "whiz\n",
      "bang\n",
      "whiz\n",
      "59\n",
      "whiz and bang\n",
      "61\n",
      "whiz\n",
      "bang\n",
      "whiz\n",
      "65\n",
      "whiz and bang\n",
      "67\n",
      "whiz\n",
      "bang\n",
      "whiz\n",
      "71\n",
      "whiz and bang\n",
      "73\n",
      "whiz\n",
      "bang\n",
      "whiz\n",
      "77\n",
      "whiz and bang\n",
      "79\n",
      "whiz\n",
      "bang\n",
      "whiz\n",
      "83\n",
      "whiz and bang\n",
      "85\n",
      "whiz\n",
      "bang\n",
      "whiz\n",
      "89\n",
      "whiz and bang\n",
      "91\n",
      "whiz\n",
      "bang\n",
      "whiz\n",
      "95\n",
      "whiz and bang\n",
      "97\n",
      "whiz\n",
      "bang\n"
     ]
    }
   ],
   "source": [
    "def whizbang (numbers):\n",
    "    for i in numbers:\n",
    "        if(i%2==0):\n",
    "            if(i%3 == 0):\n",
    "                print(\"whiz and bang\")\n",
    "            else:\n",
    "                print(\"whiz\")\n",
    "        elif (i%3 == 0):\n",
    "            print(\"bang\")\n",
    "        else:\n",
    "            print(i)\n",
    "whizbang(list(range(1,100)))"
   ]
  }
 ],
 "metadata": {
  "kernelspec": {
   "display_name": "Python 3",
   "language": "python",
   "name": "python3"
  },
  "language_info": {
   "codemirror_mode": {
    "name": "ipython",
    "version": 3
   },
   "file_extension": ".py",
   "mimetype": "text/x-python",
   "name": "python",
   "nbconvert_exporter": "python",
   "pygments_lexer": "ipython3",
   "version": "3.7.3"
  }
 },
 "nbformat": 4,
 "nbformat_minor": 2
}
